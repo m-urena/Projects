{
 "cells": [
  {
   "cell_type": "code",
   "execution_count": 71,
   "id": "c7d05f7f-f256-499c-b1e2-e26ac1aba6d9",
   "metadata": {},
   "outputs": [],
   "source": [
    "import numpy as np\n",
    "import pandas as pd\n",
    "import yfinance as yf\n",
    "import matplotlib.pyplot as plt\n",
    "from scipy.optimize import minimize\n",
    "from scipy.stats import norm"
   ]
  },
  {
   "cell_type": "code",
   "execution_count": 101,
   "id": "abf5ac77-1227-498c-a59e-8762cb62cfe0",
   "metadata": {},
   "outputs": [
    {
     "name": "stderr",
     "output_type": "stream",
     "text": [
      "[*********************100%***********************]  3 of 3 completed\n"
     ]
    }
   ],
   "source": [
    "stocks = [\"DLS\", \"GEM\", \"TLTD\"]\n",
    "start_date = \"2020-01-02\"\n",
    "end_date = \"2024-04-12\"\n",
    "\n",
    "data=yf.download(stocks,start=start_date,end=end_date)['Close']\n",
    "returns=data.pct_change().dropna()\n",
    "weights=np.array([.23,.18,.59])#manually putting the weights, can change later for github\n",
    "\n",
    "expected_returns = returns.mean()\n",
    "stdev = returns.std()\n",
    "variance = stdev ** 2\n",
    "\n",
    "cov_matrix = returns.cov()\n",
    "corr_matrix = returns.corr()"
   ]
  },
  {
   "cell_type": "code",
   "execution_count": 103,
   "id": "9d5fb3c8-341a-4cbe-932d-b5096504342d",
   "metadata": {},
   "outputs": [
    {
     "name": "stdout",
     "output_type": "stream",
     "text": [
      "Daily Portfolio Return: 0.000208169249209065\n",
      "Daily Portfolio Volatility: 0.012531824055580445\n"
     ]
    }
   ],
   "source": [
    "def portfolio_performance(weights, mean_returns, cov_matrix):\n",
    "    port_return = np.dot(weights, mean_returns)\n",
    "    port_volatility = np.sqrt(np.dot(weights.T, np.dot(cov_matrix, weights)))\n",
    "    return port_return, port_volatility\n",
    "\n",
    "ret , vol = portfolio_performance(weights,expected_returns,cov_matrix)\n",
    "print(\"Daily Portfolio Return:\", ret)\n",
    "print(\"Daily Portfolio Volatility:\", vol)"
   ]
  },
  {
   "cell_type": "code",
   "execution_count": 105,
   "id": "d4c5e582-3df5-4bd3-9206-27fa73c30a57",
   "metadata": {},
   "outputs": [
    {
     "name": "stdout",
     "output_type": "stream",
     "text": [
      "VaR Estimates\n",
      "\n",
      "Confidence Level: 90.0%\n",
      "Historical VaR: 0.012653\n",
      "Delta-normal VaR: 0.015852\n",
      "Monte Carlo VaR: 0.015849\n",
      "\n",
      "Confidence Level: 95.0%\n",
      "Historical VaR: 0.016877\n",
      "Delta-normal VaR: 0.020405\n",
      "Monte Carlo VaR: 0.020388\n",
      "\n",
      "Confidence Level: 99.0%\n",
      "Historical VaR: 0.033226\n",
      "Delta-normal VaR: 0.028945\n",
      "Monte Carlo VaR: 0.029049\n"
     ]
    }
   ],
   "source": [
    "def historical_var(returns, confidence_level):\n",
    "    return -np.percentile(returns, (1 - confidence_level) * 100)\n",
    "\n",
    "def delta_normal_var(port_return, port_volatility, confidence_level):\n",
    "    z_score = norm.ppf(1 - confidence_level)\n",
    "    return - (port_return + z_score * port_volatility)\n",
    "\n",
    "def monte_carlo_var(weights, mean_returns, cov_matrix, confidence_level, simulations=100000):\n",
    "    np.random.seed(42)\n",
    "    mean = np.dot(weights, mean_returns)\n",
    "    std_dev = np.sqrt(np.dot(weights.T, np.dot(cov_matrix, weights)))\n",
    "    simulated_returns = np.random.normal(mean, std_dev, simulations)\n",
    "    return -np.percentile(simulated_returns, (1 - confidence_level) * 100)\n",
    "\n",
    "confidence_levels = [0.90, 0.95, 0.99]\n",
    "\n",
    "Historical_VaR = {cl: historical_var(returns @ weights, cl) for cl in confidence_levels}\n",
    "Delta_VaR = {cl: delta_normal_var(ret, vol, cl) for cl in confidence_levels}\n",
    "Montecarlo_VaR = {cl: monte_carlo_var(weights, expected_returns, cov_matrix, cl) for cl in confidence_levels}\n",
    "\n",
    "print(\"VaR Estimates\")\n",
    "for cl in confidence_levels:\n",
    "    print(f\"\\nConfidence Level: {cl*100}%\")\n",
    "    print(f\"Historical VaR: {Historical_VaR[cl]:.6f}\")\n",
    "    print(f\"Delta-normal VaR: {Delta_VaR[cl]:.6f}\")\n",
    "    print(f\"Monte Carlo VaR: {Montecarlo_VaR[cl]:.6f}\")\n"
   ]
  }
 ],
 "metadata": {
  "kernelspec": {
   "display_name": "Python 3 (ipykernel)",
   "language": "python",
   "name": "python3"
  },
  "language_info": {
   "codemirror_mode": {
    "name": "ipython",
    "version": 3
   },
   "file_extension": ".py",
   "mimetype": "text/x-python",
   "name": "python",
   "nbconvert_exporter": "python",
   "pygments_lexer": "ipython3",
   "version": "3.12.4"
  }
 },
 "nbformat": 4,
 "nbformat_minor": 5
}
